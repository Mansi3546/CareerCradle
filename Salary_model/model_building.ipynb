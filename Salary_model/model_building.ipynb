{
 "metadata": {
  "language_info": {
   "codemirror_mode": {
    "name": "ipython",
    "version": 3
   },
   "file_extension": ".py",
   "mimetype": "text/x-python",
   "name": "python",
   "nbconvert_exporter": "python",
   "pygments_lexer": "ipython3",
   "version": "3.9.2-final"
  },
  "orig_nbformat": 2,
  "kernelspec": {
   "name": "python392jvsc74a57bd0f02bacc093dca7b694451ca4cbf913e011672bdd912a8e9892f5e07efd4c360d",
   "display_name": "Python 3.9.2 64-bit ('CareerCradle': conda)"
  },
  "metadata": {
   "interpreter": {
    "hash": "f02bacc093dca7b694451ca4cbf913e011672bdd912a8e9892f5e07efd4c360d"
   }
  }
 },
 "nbformat": 4,
 "nbformat_minor": 2,
 "cells": [
  {
   "cell_type": "code",
   "execution_count": 2,
   "metadata": {},
   "outputs": [],
   "source": [
    "import evalml\n",
    "import pandas as pd"
   ]
  },
  {
   "cell_type": "code",
   "execution_count": 33,
   "metadata": {},
   "outputs": [
    {
     "output_type": "stream",
     "name": "stderr",
     "text": [
      "Columns (0) have mixed types.Specify dtype option on import or set low_memory=False.\n"
     ]
    },
    {
     "output_type": "execute_result",
     "data": {
      "text/plain": [
       "  Time from Start to Finish (seconds)                           Q1  \\\n",
       "0               Duration (in seconds)  What is your age (# years)?   \n",
       "1                                1838                        35-39   \n",
       "2                              289287                        30-34   \n",
       "3                                 860                        35-39   \n",
       "4                                 507                        30-34   \n",
       "\n",
       "                                       Q2  \\\n",
       "0  What is your gender? - Selected Choice   \n",
       "1                                     Man   \n",
       "2                                     Man   \n",
       "3                                     Man   \n",
       "4                                     Man   \n",
       "\n",
       "                                          Q3  \\\n",
       "0  In which country do you currently reside?   \n",
       "1                                   Colombia   \n",
       "2                   United States of America   \n",
       "3                                  Argentina   \n",
       "4                   United States of America   \n",
       "\n",
       "                                                  Q4  \\\n",
       "0  What is the highest level of formal education ...   \n",
       "1                                    Doctoral degree   \n",
       "2                                    Master’s degree   \n",
       "3                                  Bachelor’s degree   \n",
       "4                                    Master’s degree   \n",
       "\n",
       "                                                  Q5  \\\n",
       "0  Select the title most similar to your current ...   \n",
       "1                                            Student   \n",
       "2                                      Data Engineer   \n",
       "3                                  Software Engineer   \n",
       "4                                     Data Scientist   \n",
       "\n",
       "                                                  Q6  \\\n",
       "0  For how many years have you been writing code ...   \n",
       "1                                         5-10 years   \n",
       "2                                         5-10 years   \n",
       "3                                        10-20 years   \n",
       "4                                         5-10 years   \n",
       "\n",
       "                                           Q7_Part_1  \\\n",
       "0  What programming languages do you use on a reg...   \n",
       "1                                             Python   \n",
       "2                                             Python   \n",
       "3                                                NaN   \n",
       "4                                             Python   \n",
       "\n",
       "                                           Q7_Part_2  \\\n",
       "0  What programming languages do you use on a reg...   \n",
       "1                                                  R   \n",
       "2                                                  R   \n",
       "3                                                NaN   \n",
       "4                                                NaN   \n",
       "\n",
       "                                           Q7_Part_3  ...  \\\n",
       "0  What programming languages do you use on a reg...  ...   \n",
       "1                                                SQL  ...   \n",
       "2                                                SQL  ...   \n",
       "3                                                NaN  ...   \n",
       "4                                                SQL  ...   \n",
       "\n",
       "                                        Q35_B_Part_2  \\\n",
       "0  In the next 2 years, do you hope to become mor...   \n",
       "1                                                NaN   \n",
       "2                                                NaN   \n",
       "3                                                NaN   \n",
       "4                                                NaN   \n",
       "\n",
       "                                        Q35_B_Part_3  \\\n",
       "0  In the next 2 years, do you hope to become mor...   \n",
       "1                                                NaN   \n",
       "2                                                NaN   \n",
       "3                                                NaN   \n",
       "4                                                NaN   \n",
       "\n",
       "                                        Q35_B_Part_4  \\\n",
       "0  In the next 2 years, do you hope to become mor...   \n",
       "1                                                NaN   \n",
       "2                                                NaN   \n",
       "3                                                NaN   \n",
       "4                                                NaN   \n",
       "\n",
       "                                        Q35_B_Part_5  \\\n",
       "0  In the next 2 years, do you hope to become mor...   \n",
       "1                                       TensorBoard    \n",
       "2                                                NaN   \n",
       "3                                                NaN   \n",
       "4                                                NaN   \n",
       "\n",
       "                                        Q35_B_Part_6  \\\n",
       "0  In the next 2 years, do you hope to become mor...   \n",
       "1                                                NaN   \n",
       "2                                                NaN   \n",
       "3                                                NaN   \n",
       "4                                                NaN   \n",
       "\n",
       "                                        Q35_B_Part_7  \\\n",
       "0  In the next 2 years, do you hope to become mor...   \n",
       "1                                                NaN   \n",
       "2                                                NaN   \n",
       "3                                                NaN   \n",
       "4                                                NaN   \n",
       "\n",
       "                                        Q35_B_Part_8  \\\n",
       "0  In the next 2 years, do you hope to become mor...   \n",
       "1                                                NaN   \n",
       "2                                                NaN   \n",
       "3                                                NaN   \n",
       "4                                                NaN   \n",
       "\n",
       "                                        Q35_B_Part_9  \\\n",
       "0  In the next 2 years, do you hope to become mor...   \n",
       "1                                                NaN   \n",
       "2                                                NaN   \n",
       "3                                                NaN   \n",
       "4                                                NaN   \n",
       "\n",
       "                                       Q35_B_Part_10  \\\n",
       "0  In the next 2 years, do you hope to become mor...   \n",
       "1                                                NaN   \n",
       "2                                                NaN   \n",
       "3                                               None   \n",
       "4                                                NaN   \n",
       "\n",
       "                                         Q35_B_OTHER  \n",
       "0  In the next 2 years, do you hope to become mor...  \n",
       "1                                                NaN  \n",
       "2                                                NaN  \n",
       "3                                                NaN  \n",
       "4                                                NaN  \n",
       "\n",
       "[5 rows x 355 columns]"
      ],
      "text/html": "<div>\n<style scoped>\n    .dataframe tbody tr th:only-of-type {\n        vertical-align: middle;\n    }\n\n    .dataframe tbody tr th {\n        vertical-align: top;\n    }\n\n    .dataframe thead th {\n        text-align: right;\n    }\n</style>\n<table border=\"1\" class=\"dataframe\">\n  <thead>\n    <tr style=\"text-align: right;\">\n      <th></th>\n      <th>Time from Start to Finish (seconds)</th>\n      <th>Q1</th>\n      <th>Q2</th>\n      <th>Q3</th>\n      <th>Q4</th>\n      <th>Q5</th>\n      <th>Q6</th>\n      <th>Q7_Part_1</th>\n      <th>Q7_Part_2</th>\n      <th>Q7_Part_3</th>\n      <th>...</th>\n      <th>Q35_B_Part_2</th>\n      <th>Q35_B_Part_3</th>\n      <th>Q35_B_Part_4</th>\n      <th>Q35_B_Part_5</th>\n      <th>Q35_B_Part_6</th>\n      <th>Q35_B_Part_7</th>\n      <th>Q35_B_Part_8</th>\n      <th>Q35_B_Part_9</th>\n      <th>Q35_B_Part_10</th>\n      <th>Q35_B_OTHER</th>\n    </tr>\n  </thead>\n  <tbody>\n    <tr>\n      <th>0</th>\n      <td>Duration (in seconds)</td>\n      <td>What is your age (# years)?</td>\n      <td>What is your gender? - Selected Choice</td>\n      <td>In which country do you currently reside?</td>\n      <td>What is the highest level of formal education ...</td>\n      <td>Select the title most similar to your current ...</td>\n      <td>For how many years have you been writing code ...</td>\n      <td>What programming languages do you use on a reg...</td>\n      <td>What programming languages do you use on a reg...</td>\n      <td>What programming languages do you use on a reg...</td>\n      <td>...</td>\n      <td>In the next 2 years, do you hope to become mor...</td>\n      <td>In the next 2 years, do you hope to become mor...</td>\n      <td>In the next 2 years, do you hope to become mor...</td>\n      <td>In the next 2 years, do you hope to become mor...</td>\n      <td>In the next 2 years, do you hope to become mor...</td>\n      <td>In the next 2 years, do you hope to become mor...</td>\n      <td>In the next 2 years, do you hope to become mor...</td>\n      <td>In the next 2 years, do you hope to become mor...</td>\n      <td>In the next 2 years, do you hope to become mor...</td>\n      <td>In the next 2 years, do you hope to become mor...</td>\n    </tr>\n    <tr>\n      <th>1</th>\n      <td>1838</td>\n      <td>35-39</td>\n      <td>Man</td>\n      <td>Colombia</td>\n      <td>Doctoral degree</td>\n      <td>Student</td>\n      <td>5-10 years</td>\n      <td>Python</td>\n      <td>R</td>\n      <td>SQL</td>\n      <td>...</td>\n      <td>NaN</td>\n      <td>NaN</td>\n      <td>NaN</td>\n      <td>TensorBoard</td>\n      <td>NaN</td>\n      <td>NaN</td>\n      <td>NaN</td>\n      <td>NaN</td>\n      <td>NaN</td>\n      <td>NaN</td>\n    </tr>\n    <tr>\n      <th>2</th>\n      <td>289287</td>\n      <td>30-34</td>\n      <td>Man</td>\n      <td>United States of America</td>\n      <td>Master’s degree</td>\n      <td>Data Engineer</td>\n      <td>5-10 years</td>\n      <td>Python</td>\n      <td>R</td>\n      <td>SQL</td>\n      <td>...</td>\n      <td>NaN</td>\n      <td>NaN</td>\n      <td>NaN</td>\n      <td>NaN</td>\n      <td>NaN</td>\n      <td>NaN</td>\n      <td>NaN</td>\n      <td>NaN</td>\n      <td>NaN</td>\n      <td>NaN</td>\n    </tr>\n    <tr>\n      <th>3</th>\n      <td>860</td>\n      <td>35-39</td>\n      <td>Man</td>\n      <td>Argentina</td>\n      <td>Bachelor’s degree</td>\n      <td>Software Engineer</td>\n      <td>10-20 years</td>\n      <td>NaN</td>\n      <td>NaN</td>\n      <td>NaN</td>\n      <td>...</td>\n      <td>NaN</td>\n      <td>NaN</td>\n      <td>NaN</td>\n      <td>NaN</td>\n      <td>NaN</td>\n      <td>NaN</td>\n      <td>NaN</td>\n      <td>NaN</td>\n      <td>None</td>\n      <td>NaN</td>\n    </tr>\n    <tr>\n      <th>4</th>\n      <td>507</td>\n      <td>30-34</td>\n      <td>Man</td>\n      <td>United States of America</td>\n      <td>Master’s degree</td>\n      <td>Data Scientist</td>\n      <td>5-10 years</td>\n      <td>Python</td>\n      <td>NaN</td>\n      <td>SQL</td>\n      <td>...</td>\n      <td>NaN</td>\n      <td>NaN</td>\n      <td>NaN</td>\n      <td>NaN</td>\n      <td>NaN</td>\n      <td>NaN</td>\n      <td>NaN</td>\n      <td>NaN</td>\n      <td>NaN</td>\n      <td>NaN</td>\n    </tr>\n  </tbody>\n</table>\n<p>5 rows × 355 columns</p>\n</div>"
     },
     "metadata": {},
     "execution_count": 33
    }
   ],
   "source": [
    "salary_dataset = pd.read_csv('kaggle_survey_2020_responses.csv')\n",
    "salary_dataset.head()"
   ]
  },
  {
   "cell_type": "code",
   "execution_count": 34,
   "metadata": {},
   "outputs": [
    {
     "output_type": "stream",
     "name": "stdout",
     "text": [
      "<class 'pandas.core.frame.DataFrame'>\nRangeIndex: 20037 entries, 0 to 20036\nColumns: 355 entries, Time from Start to Finish (seconds) to Q35_B_OTHER\ndtypes: object(355)\nmemory usage: 54.3+ MB\n"
     ]
    }
   ],
   "source": [
    "salary_dataset.info()"
   ]
  },
  {
   "cell_type": "code",
   "execution_count": 28,
   "metadata": {},
   "outputs": [],
   "source": [
    "X = salary_dataset.iloc[:, :-1]\n",
    "y = salary_dataset.iloc[:, -1]"
   ]
  },
  {
   "cell_type": "code",
   "execution_count": 32,
   "metadata": {},
   "outputs": [
    {
     "output_type": "execute_result",
     "data": {
      "text/plain": [
       "Data Column                  name                     jobtitle       deptid  \\\n",
       "Physical Type              string                       string     category   \n",
       "Logical Type      NaturalLanguage              NaturalLanguage  Categorical   \n",
       "Semantic Tag(s)                []                           [] ['category']   \n",
       "4123              Flood,William S     Public Works Inspector I       A50803   \n",
       "1611                 Brown,Freddy  Library Custodial Worker II       A75081   \n",
       "6126               Irving,Nayaree               Crossing Guard       C90786   \n",
       "6376             Johncox,Thomas E           Police Officer EID       A99125   \n",
       "8433               Mende,Samuel A             Fire Lt Supp ALS       A64102   \n",
       "\n",
       "Data Column                               descr        hire_dt   annual_rt  \n",
       "Physical Type                            string datetime64[ns]     float64  \n",
       "Logical Type                    NaturalLanguage       Datetime      Double  \n",
       "Semantic Tag(s)                              []             [] ['numeric']  \n",
       "4123              DPW-Water & Waste Water (803)     1999-10-16     40443.0  \n",
       "1611             Enoch Pratt Free Library (081)     2012-10-29     32287.0  \n",
       "6126                TRANS-Crossing Guards (786)     1999-09-30     11632.0  \n",
       "6376                    Police Department (125)     2008-02-13     81464.0  \n",
       "8433                      Fire Department (102)     2004-02-25     85819.0  "
      ],
      "text/html": "<div>\n<style scoped>\n    .dataframe tbody tr th:only-of-type {\n        vertical-align: middle;\n    }\n\n    .dataframe tbody tr th {\n        vertical-align: top;\n    }\n\n    .dataframe thead tr th {\n        text-align: left;\n    }\n</style>\n<table border=\"1\" class=\"dataframe\">\n  <thead>\n    <tr>\n      <th>Data Column</th>\n      <th>name</th>\n      <th>jobtitle</th>\n      <th>deptid</th>\n      <th>descr</th>\n      <th>hire_dt</th>\n      <th>annual_rt</th>\n    </tr>\n    <tr>\n      <th>Physical Type</th>\n      <th>string</th>\n      <th>string</th>\n      <th>category</th>\n      <th>string</th>\n      <th>datetime64[ns]</th>\n      <th>float64</th>\n    </tr>\n    <tr>\n      <th>Logical Type</th>\n      <th>NaturalLanguage</th>\n      <th>NaturalLanguage</th>\n      <th>Categorical</th>\n      <th>NaturalLanguage</th>\n      <th>Datetime</th>\n      <th>Double</th>\n    </tr>\n    <tr>\n      <th>Semantic Tag(s)</th>\n      <th>[]</th>\n      <th>[]</th>\n      <th>['category']</th>\n      <th>[]</th>\n      <th>[]</th>\n      <th>['numeric']</th>\n    </tr>\n  </thead>\n  <tbody>\n    <tr>\n      <th>4123</th>\n      <td>Flood,William S</td>\n      <td>Public Works Inspector I</td>\n      <td>A50803</td>\n      <td>DPW-Water &amp; Waste Water (803)</td>\n      <td>1999-10-16</td>\n      <td>40443.0</td>\n    </tr>\n    <tr>\n      <th>1611</th>\n      <td>Brown,Freddy</td>\n      <td>Library Custodial Worker II</td>\n      <td>A75081</td>\n      <td>Enoch Pratt Free Library (081)</td>\n      <td>2012-10-29</td>\n      <td>32287.0</td>\n    </tr>\n    <tr>\n      <th>6126</th>\n      <td>Irving,Nayaree</td>\n      <td>Crossing Guard</td>\n      <td>C90786</td>\n      <td>TRANS-Crossing Guards (786)</td>\n      <td>1999-09-30</td>\n      <td>11632.0</td>\n    </tr>\n    <tr>\n      <th>6376</th>\n      <td>Johncox,Thomas E</td>\n      <td>Police Officer EID</td>\n      <td>A99125</td>\n      <td>Police Department (125)</td>\n      <td>2008-02-13</td>\n      <td>81464.0</td>\n    </tr>\n    <tr>\n      <th>8433</th>\n      <td>Mende,Samuel A</td>\n      <td>Fire Lt Supp ALS</td>\n      <td>A64102</td>\n      <td>Fire Department (102)</td>\n      <td>2004-02-25</td>\n      <td>85819.0</td>\n    </tr>\n  </tbody>\n</table>\n</div>"
     },
     "metadata": {},
     "execution_count": 32
    }
   ],
   "source": [
    "X_train, X_test, y_train, y_test = evalml.preprocessing.split_data(X, y, test_size=0.2, problem_type=\"regression\")\n",
    "X_train.head()"
   ]
  },
  {
   "cell_type": "code",
   "execution_count": null,
   "metadata": {},
   "outputs": [],
   "source": []
  }
 ]
}